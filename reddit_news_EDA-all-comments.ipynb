{
 "cells": [
  {
   "cell_type": "code",
   "execution_count": 2,
   "metadata": {},
   "outputs": [],
   "source": [
    "import pandas as pd\n",
    "from sklearn.feature_extraction.text import TfidfVectorizer\n",
    "import pprint\n",
    "import matplotlib.pyplot as plt\n",
    "import numpy as np"
   ]
  },
  {
   "cell_type": "code",
   "execution_count": 118,
   "metadata": {},
   "outputs": [
    {
     "name": "stderr",
     "output_type": "stream",
     "text": [
      "/anaconda3/lib/python3.6/site-packages/IPython/core/interactiveshell.py:2785: DtypeWarning: Columns (0,1,2,3,5,7,8,10,11,12,13,14,16,17,18,19,20,21,22,23,30,31,32,33,34,35,37,42,45,46,47,50,51) have mixed types. Specify dtype option on import or set low_memory=False.\n",
      "  interactivity=interactivity, compiler=compiler, result=result)\n",
      "/anaconda3/lib/python3.6/site-packages/IPython/core/interactiveshell.py:2785: DtypeWarning: Columns (7,8,10,11,12,16,17,20,21,24,25,26,34,37,39,43,44,45,46,48,49,57,58,59,64,66,70,72,76,82,83,84,89,90,97,100) have mixed types. Specify dtype option on import or set low_memory=False.\n",
      "  interactivity=interactivity, compiler=compiler, result=result)\n"
     ]
    }
   ],
   "source": [
    "df_comments = pd.read_csv('./comments/comments_with_sentiment')\n",
    "df_submission = pd.read_csv('./submissions/submissions_with_sentiment')"
   ]
  },
  {
   "cell_type": "code",
   "execution_count": 119,
   "metadata": {},
   "outputs": [
    {
     "data": {
      "text/plain": [
       "10417427"
      ]
     },
     "execution_count": 119,
     "metadata": {},
     "output_type": "execute_result"
    }
   ],
   "source": [
    "len(df_comments)"
   ]
  },
  {
   "cell_type": "code",
   "execution_count": 120,
   "metadata": {},
   "outputs": [],
   "source": [
    "df_comments['parent_id'] = 't3_' + df_comments['permalink'].str.split('/').str.get(4)"
   ]
  },
  {
   "cell_type": "code",
   "execution_count": 121,
   "metadata": {},
   "outputs": [],
   "source": [
    "df_comments = df_comments[~(df_comments['parent_id'].isna())]"
   ]
  },
  {
   "cell_type": "code",
   "execution_count": 122,
   "metadata": {},
   "outputs": [
    {
     "data": {
      "text/plain": [
       "6620564"
      ]
     },
     "execution_count": 122,
     "metadata": {},
     "output_type": "execute_result"
    }
   ],
   "source": [
    "len(df_comments)"
   ]
  },
  {
   "cell_type": "code",
   "execution_count": 123,
   "metadata": {},
   "outputs": [],
   "source": [
    "df_comments = df_comments[df_comments.comment_sentiment != 0]"
   ]
  },
  {
   "cell_type": "code",
   "execution_count": 124,
   "metadata": {},
   "outputs": [],
   "source": [
    "df_comments = df_comments[df_comments['parent_id'].str.startswith('t3')]"
   ]
  },
  {
   "cell_type": "code",
   "execution_count": null,
   "metadata": {},
   "outputs": [],
   "source": []
  },
  {
   "cell_type": "code",
   "execution_count": 125,
   "metadata": {},
   "outputs": [],
   "source": [
    "df_submission = df_submission[df_submission.num_comments >= 15]"
   ]
  },
  {
   "cell_type": "code",
   "execution_count": 126,
   "metadata": {},
   "outputs": [],
   "source": [
    "df_submission = df_submission[df_submission.title_sentiment != 0]"
   ]
  },
  {
   "cell_type": "code",
   "execution_count": null,
   "metadata": {},
   "outputs": [],
   "source": []
  },
  {
   "cell_type": "code",
   "execution_count": 127,
   "metadata": {},
   "outputs": [
    {
     "data": {
      "text/plain": [
       "44845"
      ]
     },
     "execution_count": 127,
     "metadata": {},
     "output_type": "execute_result"
    }
   ],
   "source": [
    "len(df_submission)"
   ]
  },
  {
   "cell_type": "code",
   "execution_count": 128,
   "metadata": {},
   "outputs": [
    {
     "data": {
      "text/plain": [
       "4594224"
      ]
     },
     "execution_count": 128,
     "metadata": {},
     "output_type": "execute_result"
    }
   ],
   "source": [
    "len(df_comments)"
   ]
  },
  {
   "cell_type": "code",
   "execution_count": null,
   "metadata": {},
   "outputs": [],
   "source": []
  },
  {
   "cell_type": "code",
   "execution_count": 129,
   "metadata": {},
   "outputs": [],
   "source": [
    "df_comments = df_comments[df_comments.parent_id.str[3:].isin(df_submission.id)]"
   ]
  },
  {
   "cell_type": "code",
   "execution_count": 130,
   "metadata": {},
   "outputs": [],
   "source": [
    "grpby = df_comments.groupby('parent_id')"
   ]
  },
  {
   "cell_type": "code",
   "execution_count": 131,
   "metadata": {},
   "outputs": [],
   "source": [
    "counts = grpby.count().reset_index()"
   ]
  },
  {
   "cell_type": "code",
   "execution_count": 132,
   "metadata": {},
   "outputs": [],
   "source": [
    "gt_30 = counts[counts['body'] > 15]['parent_id']"
   ]
  },
  {
   "cell_type": "code",
   "execution_count": null,
   "metadata": {},
   "outputs": [],
   "source": []
  },
  {
   "cell_type": "code",
   "execution_count": 133,
   "metadata": {},
   "outputs": [],
   "source": [
    "df_comments = df_comments[df_comments.parent_id.isin(gt_30)]"
   ]
  },
  {
   "cell_type": "code",
   "execution_count": null,
   "metadata": {},
   "outputs": [],
   "source": []
  },
  {
   "cell_type": "code",
   "execution_count": 134,
   "metadata": {},
   "outputs": [
    {
     "data": {
      "text/plain": [
       "3275161"
      ]
     },
     "execution_count": 134,
     "metadata": {},
     "output_type": "execute_result"
    }
   ],
   "source": [
    "len(df_comments)"
   ]
  },
  {
   "cell_type": "code",
   "execution_count": 135,
   "metadata": {},
   "outputs": [],
   "source": [
    " df_submission = df_submission[df_submission.id.isin(df_comments.parent_id.str[3:])]"
   ]
  },
  {
   "cell_type": "code",
   "execution_count": 136,
   "metadata": {},
   "outputs": [
    {
     "data": {
      "text/plain": [
       "10981"
      ]
     },
     "execution_count": 136,
     "metadata": {},
     "output_type": "execute_result"
    }
   ],
   "source": [
    "len(df_submission)"
   ]
  },
  {
   "cell_type": "code",
   "execution_count": null,
   "metadata": {},
   "outputs": [],
   "source": []
  },
  {
   "cell_type": "code",
   "execution_count": 137,
   "metadata": {},
   "outputs": [],
   "source": [
    "df_comments.to_csv(\"comments_gte_15_tl.csv\")"
   ]
  },
  {
   "cell_type": "code",
   "execution_count": 138,
   "metadata": {},
   "outputs": [],
   "source": [
    "df_submission.to_csv(\"submissions_gte_15_tl.csv\")"
   ]
  },
  {
   "cell_type": "code",
   "execution_count": null,
   "metadata": {},
   "outputs": [],
   "source": []
  },
  {
   "cell_type": "code",
   "execution_count": 139,
   "metadata": {},
   "outputs": [],
   "source": [
    "avg_comments = df_comments[['parent_id', 'comment_sentiment']].groupby('parent_id').mean().reset_index()"
   ]
  },
  {
   "cell_type": "code",
   "execution_count": 140,
   "metadata": {},
   "outputs": [
    {
     "data": {
      "text/plain": [
       "Index(['parent_id', 'comment_sentiment'], dtype='object')"
      ]
     },
     "execution_count": 140,
     "metadata": {},
     "output_type": "execute_result"
    }
   ],
   "source": [
    "avg_comments.columns"
   ]
  },
  {
   "cell_type": "code",
   "execution_count": 141,
   "metadata": {},
   "outputs": [],
   "source": [
    "avg_comments['id'] = avg_comments['parent_id']"
   ]
  },
  {
   "cell_type": "code",
   "execution_count": 142,
   "metadata": {},
   "outputs": [],
   "source": [
    "avg_comments = avg_comments.drop('parent_id', axis=1)"
   ]
  },
  {
   "cell_type": "code",
   "execution_count": 143,
   "metadata": {},
   "outputs": [],
   "source": [
    "avg_comments.id = avg_comments.id.str[3:]"
   ]
  },
  {
   "cell_type": "code",
   "execution_count": 144,
   "metadata": {},
   "outputs": [],
   "source": [
    "merged = df_submission[['id', 'title_sentiment', 'title']].merge(avg_comments, on='id')"
   ]
  },
  {
   "cell_type": "code",
   "execution_count": 145,
   "metadata": {},
   "outputs": [
    {
     "data": {
      "text/plain": [
       "Index(['id', 'title_sentiment', 'title', 'comment_sentiment'], dtype='object')"
      ]
     },
     "execution_count": 145,
     "metadata": {},
     "output_type": "execute_result"
    }
   ],
   "source": [
    "merged.columns"
   ]
  },
  {
   "cell_type": "code",
   "execution_count": 146,
   "metadata": {},
   "outputs": [],
   "source": [
    "pd.set_option('max_colwidth', 600)"
   ]
  },
  {
   "cell_type": "code",
   "execution_count": 147,
   "metadata": {},
   "outputs": [
    {
     "data": {
      "text/html": [
       "<div>\n",
       "<style scoped>\n",
       "    .dataframe tbody tr th:only-of-type {\n",
       "        vertical-align: middle;\n",
       "    }\n",
       "\n",
       "    .dataframe tbody tr th {\n",
       "        vertical-align: top;\n",
       "    }\n",
       "\n",
       "    .dataframe thead th {\n",
       "        text-align: right;\n",
       "    }\n",
       "</style>\n",
       "<table border=\"1\" class=\"dataframe\">\n",
       "  <thead>\n",
       "    <tr style=\"text-align: right;\">\n",
       "      <th></th>\n",
       "      <th>id</th>\n",
       "      <th>title_sentiment</th>\n",
       "      <th>title</th>\n",
       "      <th>comment_sentiment</th>\n",
       "    </tr>\n",
       "  </thead>\n",
       "  <tbody>\n",
       "    <tr>\n",
       "      <th>10759</th>\n",
       "      <td>794no0</td>\n",
       "      <td>0.5267</td>\n",
       "      <td>Jeff Bezos just passed Bill Gates for world's richest person</td>\n",
       "      <td>0.552870</td>\n",
       "    </tr>\n",
       "    <tr>\n",
       "      <th>3208</th>\n",
       "      <td>84aeeg</td>\n",
       "      <td>-0.5574</td>\n",
       "      <td>Scientist Stephen Hawking has died aged 76</td>\n",
       "      <td>0.515800</td>\n",
       "    </tr>\n",
       "    <tr>\n",
       "      <th>9032</th>\n",
       "      <td>7e8350</td>\n",
       "      <td>0.5994</td>\n",
       "      <td>FAA approves Flying Cow drones to restore Puerto Rico cell network</td>\n",
       "      <td>0.495141</td>\n",
       "    </tr>\n",
       "    <tr>\n",
       "      <th>1985</th>\n",
       "      <td>8csucl</td>\n",
       "      <td>0.2023</td>\n",
       "      <td>As tornado sweeps through neighborhood, teen just keeps playing Fortnite video game</td>\n",
       "      <td>0.493200</td>\n",
       "    </tr>\n",
       "    <tr>\n",
       "      <th>6644</th>\n",
       "      <td>7t9xad</td>\n",
       "      <td>0.5994</td>\n",
       "      <td>It's a lunar trifecta. A rare 'super blue blood moon' will soon light up the sky</td>\n",
       "      <td>0.473320</td>\n",
       "    </tr>\n",
       "    <tr>\n",
       "      <th>821</th>\n",
       "      <td>8kyb97</td>\n",
       "      <td>0.8176</td>\n",
       "      <td>Golden Knights were 500-1 long shots to win Stanley Cup. Now they are four wins away</td>\n",
       "      <td>0.462810</td>\n",
       "    </tr>\n",
       "    <tr>\n",
       "      <th>2692</th>\n",
       "      <td>81m85f</td>\n",
       "      <td>-0.5994</td>\n",
       "      <td>McDonald's Is Dow Jones' Biggest Loser On 'Tough Start' For $1-$2-$3 Dollar Menu</td>\n",
       "      <td>0.459981</td>\n",
       "    </tr>\n",
       "    <tr>\n",
       "      <th>5328</th>\n",
       "      <td>80h2wi</td>\n",
       "      <td>0.1531</td>\n",
       "      <td>Girl injured by emotional support dog while boarding Southwest flight</td>\n",
       "      <td>0.459333</td>\n",
       "    </tr>\n",
       "    <tr>\n",
       "      <th>2774</th>\n",
       "      <td>8249ww</td>\n",
       "      <td>0.6369</td>\n",
       "      <td>Best Buy is shutting down 250 mobile outlets</td>\n",
       "      <td>0.450825</td>\n",
       "    </tr>\n",
       "    <tr>\n",
       "      <th>10498</th>\n",
       "      <td>77zeou</td>\n",
       "      <td>0.2732</td>\n",
       "      <td>New research shows relationships that begin online are stronger than bonds made offline. Online dating increases interracial relationships, as dating sites and apps introduce people to a much more extensive and diverse set of networks beyond personal connections made in real life</td>\n",
       "      <td>0.445155</td>\n",
       "    </tr>\n",
       "    <tr>\n",
       "      <th>5717</th>\n",
       "      <td>7or77e</td>\n",
       "      <td>0.5267</td>\n",
       "      <td>One winning Powerball ticket to claim $570 million jackpot</td>\n",
       "      <td>0.436379</td>\n",
       "    </tr>\n",
       "    <tr>\n",
       "      <th>7263</th>\n",
       "      <td>7ir9dt</td>\n",
       "      <td>0.2732</td>\n",
       "      <td>Newfoundland connects to North American energy grid for the first time</td>\n",
       "      <td>0.433868</td>\n",
       "    </tr>\n",
       "    <tr>\n",
       "      <th>2377</th>\n",
       "      <td>8ewam6</td>\n",
       "      <td>-0.0258</td>\n",
       "      <td>Special Olympian disqualified for swimming too fast</td>\n",
       "      <td>0.424110</td>\n",
       "    </tr>\n",
       "    <tr>\n",
       "      <th>6695</th>\n",
       "      <td>7tjw04</td>\n",
       "      <td>0.1779</td>\n",
       "      <td>Roger Federer wins Australian Open and 20th major after beating Marin Cilic</td>\n",
       "      <td>0.422929</td>\n",
       "    </tr>\n",
       "    <tr>\n",
       "      <th>8793</th>\n",
       "      <td>7cznbt</td>\n",
       "      <td>0.4019</td>\n",
       "      <td>Australia says yes to same-sex marriage in historic postal survey | Australia news</td>\n",
       "      <td>0.422097</td>\n",
       "    </tr>\n",
       "    <tr>\n",
       "      <th>6763</th>\n",
       "      <td>7tvgv7</td>\n",
       "      <td>0.4019</td>\n",
       "      <td>The NSA has Literally Removed \"Honesty\" from Its Core Values</td>\n",
       "      <td>0.417494</td>\n",
       "    </tr>\n",
       "    <tr>\n",
       "      <th>10592</th>\n",
       "      <td>78g36l</td>\n",
       "      <td>-0.6486</td>\n",
       "      <td>In the U.S. market for human bodies, anyone can sell the donated dead</td>\n",
       "      <td>0.415481</td>\n",
       "    </tr>\n",
       "    <tr>\n",
       "      <th>3951</th>\n",
       "      <td>87xud8</td>\n",
       "      <td>0.4215</td>\n",
       "      <td>Johan van Hulst, Dutch schoolteacher who saved hundreds of Jewish children during Holocaust, dies at 107</td>\n",
       "      <td>0.407075</td>\n",
       "    </tr>\n",
       "    <tr>\n",
       "      <th>6956</th>\n",
       "      <td>7h5jen</td>\n",
       "      <td>-0.5994</td>\n",
       "      <td>Medical Marijuana Patients In Texas Worry About Shortage Of Registered Doctors - According to the state, only seven of Texas’s estimated 400 neurologists have signed up as registered CBD oil prescribers</td>\n",
       "      <td>0.405263</td>\n",
       "    </tr>\n",
       "    <tr>\n",
       "      <th>6414</th>\n",
       "      <td>7sb822</td>\n",
       "      <td>0.3400</td>\n",
       "      <td>Neil Diamond Retires From Touring After Parkinson’s Diagnosis</td>\n",
       "      <td>0.400726</td>\n",
       "    </tr>\n",
       "    <tr>\n",
       "      <th>8118</th>\n",
       "      <td>7a22pl</td>\n",
       "      <td>-0.5267</td>\n",
       "      <td>Germany Forced To Pay Consumers To Use More Electricity Due to wind generation from stormy weekend</td>\n",
       "      <td>0.400716</td>\n",
       "    </tr>\n",
       "    <tr>\n",
       "      <th>8401</th>\n",
       "      <td>7b71kb</td>\n",
       "      <td>-0.3182</td>\n",
       "      <td>A Houston furniture store owner lost $10 million on a World Series promotion</td>\n",
       "      <td>0.400208</td>\n",
       "    </tr>\n",
       "    <tr>\n",
       "      <th>1974</th>\n",
       "      <td>8cqyyi</td>\n",
       "      <td>0.7906</td>\n",
       "      <td>Kendrick Lamar wins Pulitzer Prize for music for his acclaimed album 'Damn.'</td>\n",
       "      <td>0.399114</td>\n",
       "    </tr>\n",
       "    <tr>\n",
       "      <th>7700</th>\n",
       "      <td>7l3yza</td>\n",
       "      <td>0.7184</td>\n",
       "      <td>AT&amp;amp;T is giving $1,000 bonuses to 200,000 employees after tax bill</td>\n",
       "      <td>0.398514</td>\n",
       "    </tr>\n",
       "    <tr>\n",
       "      <th>3597</th>\n",
       "      <td>867mzo</td>\n",
       "      <td>0.4588</td>\n",
       "      <td>She's on life support. She's walking. No one at Children's Mercy Hospital in KC has done that before</td>\n",
       "      <td>0.396705</td>\n",
       "    </tr>\n",
       "    <tr>\n",
       "      <th>6559</th>\n",
       "      <td>7sxofm</td>\n",
       "      <td>-0.2960</td>\n",
       "      <td>Report: Dalai Lama received $1M from Albany 'sex cult' accused of branding women</td>\n",
       "      <td>0.381195</td>\n",
       "    </tr>\n",
       "    <tr>\n",
       "      <th>9480</th>\n",
       "      <td>73m3y5</td>\n",
       "      <td>0.4404</td>\n",
       "      <td>Man asked friends to help him move but police say they unknowingly helped him burglarize home</td>\n",
       "      <td>0.375533</td>\n",
       "    </tr>\n",
       "    <tr>\n",
       "      <th>7784</th>\n",
       "      <td>7ljcov</td>\n",
       "      <td>0.8625</td>\n",
       "      <td>Billionaire Bob Parsons praises tax bill and promises staff $1,000-$2,000 bonuses</td>\n",
       "      <td>0.375010</td>\n",
       "    </tr>\n",
       "    <tr>\n",
       "      <th>7509</th>\n",
       "      <td>7k37u2</td>\n",
       "      <td>0.3818</td>\n",
       "      <td>N.Y. Fed raises U.S. fourth-quarter GDP growth view to near 4 percent</td>\n",
       "      <td>0.374347</td>\n",
       "    </tr>\n",
       "    <tr>\n",
       "      <th>9889</th>\n",
       "      <td>75bmqx</td>\n",
       "      <td>-0.7351</td>\n",
       "      <td>Facebook Quietly Enters StarCraft War for AI Bots, and Loses</td>\n",
       "      <td>0.364853</td>\n",
       "    </tr>\n",
       "    <tr>\n",
       "      <th>...</th>\n",
       "      <td>...</td>\n",
       "      <td>...</td>\n",
       "      <td>...</td>\n",
       "      <td>...</td>\n",
       "    </tr>\n",
       "    <tr>\n",
       "      <th>2703</th>\n",
       "      <td>81r7ea</td>\n",
       "      <td>-0.8176</td>\n",
       "      <td>Suspect in Central Michigan shooting death used gun registered to dad, police say</td>\n",
       "      <td>-0.553870</td>\n",
       "    </tr>\n",
       "    <tr>\n",
       "      <th>6208</th>\n",
       "      <td>7rb7nd</td>\n",
       "      <td>-0.7845</td>\n",
       "      <td>Teen shot dead by cop in Ohio courthouse during fight with family members</td>\n",
       "      <td>-0.554520</td>\n",
       "    </tr>\n",
       "    <tr>\n",
       "      <th>4986</th>\n",
       "      <td>7yz3yz</td>\n",
       "      <td>-0.4767</td>\n",
       "      <td>SUV passenger shot at by NSA police says wrong turn led to top-secret installation</td>\n",
       "      <td>-0.554983</td>\n",
       "    </tr>\n",
       "    <tr>\n",
       "      <th>6373</th>\n",
       "      <td>7s5dya</td>\n",
       "      <td>-0.4767</td>\n",
       "      <td>The Latest: Syrian activists: Gas attack in Damascus suburb</td>\n",
       "      <td>-0.557119</td>\n",
       "    </tr>\n",
       "    <tr>\n",
       "      <th>9154</th>\n",
       "      <td>7euiq8</td>\n",
       "      <td>-0.6808</td>\n",
       "      <td>Pastor forgot where he put his gun, realizes it was stolen</td>\n",
       "      <td>-0.560763</td>\n",
       "    </tr>\n",
       "    <tr>\n",
       "      <th>3486</th>\n",
       "      <td>85pyi6</td>\n",
       "      <td>-0.4019</td>\n",
       "      <td>Mistrial Declared Again in Oft-Deported Immigrant's DUI Hit-and-Run that Injured Child</td>\n",
       "      <td>-0.561025</td>\n",
       "    </tr>\n",
       "    <tr>\n",
       "      <th>2896</th>\n",
       "      <td>82rk00</td>\n",
       "      <td>-0.7003</td>\n",
       "      <td>Several injured in Vienna knife attack</td>\n",
       "      <td>-0.567465</td>\n",
       "    </tr>\n",
       "    <tr>\n",
       "      <th>1776</th>\n",
       "      <td>8bnb8j</td>\n",
       "      <td>-0.9217</td>\n",
       "      <td>Man Accused of Raping Michigan Teenager Is Now Charged With Killing Her</td>\n",
       "      <td>-0.568922</td>\n",
       "    </tr>\n",
       "    <tr>\n",
       "      <th>1213</th>\n",
       "      <td>8n2dqr</td>\n",
       "      <td>-0.8225</td>\n",
       "      <td>One-year old reportedly abducted from mom found dead in Chesterfield County</td>\n",
       "      <td>-0.569582</td>\n",
       "    </tr>\n",
       "    <tr>\n",
       "      <th>6547</th>\n",
       "      <td>7swa3t</td>\n",
       "      <td>-0.8519</td>\n",
       "      <td>Mystery Surrounds Michigan Mom And Son Found Dead In Home With No Trace Of Trauma</td>\n",
       "      <td>-0.571159</td>\n",
       "    </tr>\n",
       "    <tr>\n",
       "      <th>4306</th>\n",
       "      <td>7vkz7l</td>\n",
       "      <td>-0.6705</td>\n",
       "      <td>1 deputy killed after responding to motor vehicle theft in Colorado</td>\n",
       "      <td>-0.571529</td>\n",
       "    </tr>\n",
       "    <tr>\n",
       "      <th>5283</th>\n",
       "      <td>809juf</td>\n",
       "      <td>-0.7964</td>\n",
       "      <td>'I said stop': Ottawa woman accuses Hedley singer Jacob Hoggard of rape</td>\n",
       "      <td>-0.571911</td>\n",
       "    </tr>\n",
       "    <tr>\n",
       "      <th>4871</th>\n",
       "      <td>7ycg56</td>\n",
       "      <td>-0.2500</td>\n",
       "      <td>Israel slams Polish PM for WWII 'Jewish perpetrators' remark</td>\n",
       "      <td>-0.574132</td>\n",
       "    </tr>\n",
       "    <tr>\n",
       "      <th>8039</th>\n",
       "      <td>7n02i9</td>\n",
       "      <td>-0.6808</td>\n",
       "      <td>Recy Taylor, Alabama woman raped by six white men, dies at 97</td>\n",
       "      <td>-0.574512</td>\n",
       "    </tr>\n",
       "    <tr>\n",
       "      <th>3328</th>\n",
       "      <td>84uk2d</td>\n",
       "      <td>-0.4588</td>\n",
       "      <td>Britain First leader Paul Golding attacked at HMP Elmley</td>\n",
       "      <td>-0.578752</td>\n",
       "    </tr>\n",
       "    <tr>\n",
       "      <th>8814</th>\n",
       "      <td>7d4zpj</td>\n",
       "      <td>-0.8658</td>\n",
       "      <td>Woman who made false rape complaint receives suspended sentence</td>\n",
       "      <td>-0.582045</td>\n",
       "    </tr>\n",
       "    <tr>\n",
       "      <th>5684</th>\n",
       "      <td>7okjke</td>\n",
       "      <td>-0.6249</td>\n",
       "      <td>Palestinians attack car of Greek Patriarch in protest against land deals</td>\n",
       "      <td>-0.582294</td>\n",
       "    </tr>\n",
       "    <tr>\n",
       "      <th>3877</th>\n",
       "      <td>87lvys</td>\n",
       "      <td>-0.9412</td>\n",
       "      <td>An 85-year-old woman who as a child narrowly escaped France’s most notorious wartime roundup of Jews has been murdered in Paris, and the authorities are calling it a hate crime.</td>\n",
       "      <td>-0.588225</td>\n",
       "    </tr>\n",
       "    <tr>\n",
       "      <th>3947</th>\n",
       "      <td>87wwsb</td>\n",
       "      <td>-0.8316</td>\n",
       "      <td>UK resident abducted, raped and burned alive by convicted killers out on bail, United Kingdom.</td>\n",
       "      <td>-0.588647</td>\n",
       "    </tr>\n",
       "    <tr>\n",
       "      <th>3650</th>\n",
       "      <td>86h14f</td>\n",
       "      <td>-0.9287</td>\n",
       "      <td>Travis Air Force Base Gate Crash Investigated As Terror Attack; Driver Killed</td>\n",
       "      <td>-0.594505</td>\n",
       "    </tr>\n",
       "    <tr>\n",
       "      <th>8037</th>\n",
       "      <td>7myumi</td>\n",
       "      <td>-0.5423</td>\n",
       "      <td>Germany: Afghan teen in custody over fatal stabbing</td>\n",
       "      <td>-0.595386</td>\n",
       "    </tr>\n",
       "    <tr>\n",
       "      <th>5824</th>\n",
       "      <td>7pd2l2</td>\n",
       "      <td>-0.6249</td>\n",
       "      <td>Police guard \"White Racism\" class at Florida Gulf Coast University</td>\n",
       "      <td>-0.606558</td>\n",
       "    </tr>\n",
       "    <tr>\n",
       "      <th>10198</th>\n",
       "      <td>76kno5</td>\n",
       "      <td>-0.8957</td>\n",
       "      <td>Police drop investigation as story of racist death threats against Calgary trustee candidate unravels</td>\n",
       "      <td>-0.610069</td>\n",
       "    </tr>\n",
       "    <tr>\n",
       "      <th>5664</th>\n",
       "      <td>7og3jh</td>\n",
       "      <td>-0.8442</td>\n",
       "      <td>HIV-positive school aide pleads guilty to sex abuse charges</td>\n",
       "      <td>-0.621735</td>\n",
       "    </tr>\n",
       "    <tr>\n",
       "      <th>50</th>\n",
       "      <td>8gc5iq</td>\n",
       "      <td>-0.9260</td>\n",
       "      <td>Texas Jury Gave a Man No Prison Time Because 'Gay Panic' Drove Him to Kill</td>\n",
       "      <td>-0.622150</td>\n",
       "    </tr>\n",
       "    <tr>\n",
       "      <th>10352</th>\n",
       "      <td>7799ir</td>\n",
       "      <td>-0.8860</td>\n",
       "      <td>Sevier County deputy suffered panic attack while armed, couple charged with causing it</td>\n",
       "      <td>-0.631571</td>\n",
       "    </tr>\n",
       "    <tr>\n",
       "      <th>6854</th>\n",
       "      <td>7ubcu5</td>\n",
       "      <td>-0.5859</td>\n",
       "      <td>Stanford drops plans for plaque at site of Brock Turner sexual assault</td>\n",
       "      <td>-0.632611</td>\n",
       "    </tr>\n",
       "    <tr>\n",
       "      <th>5456</th>\n",
       "      <td>7nccsh</td>\n",
       "      <td>-0.6705</td>\n",
       "      <td>Wichita man killed by police after a Prank call leaving two children behind.</td>\n",
       "      <td>-0.636729</td>\n",
       "    </tr>\n",
       "    <tr>\n",
       "      <th>1630</th>\n",
       "      <td>8atz0n</td>\n",
       "      <td>-0.8658</td>\n",
       "      <td>Cop killed a teen. But the boy’s friend — not the officer — was found guilty of murder</td>\n",
       "      <td>-0.646498</td>\n",
       "    </tr>\n",
       "    <tr>\n",
       "      <th>3886</th>\n",
       "      <td>87nmyl</td>\n",
       "      <td>-0.9300</td>\n",
       "      <td>Illegal immigrant that murdered two California cops, as well as shot another cop and a civilian, receives the Death Penalty</td>\n",
       "      <td>-0.663906</td>\n",
       "    </tr>\n",
       "  </tbody>\n",
       "</table>\n",
       "<p>10981 rows × 4 columns</p>\n",
       "</div>"
      ],
      "text/plain": [
       "           id  title_sentiment  \\\n",
       "10759  794no0           0.5267   \n",
       "3208   84aeeg          -0.5574   \n",
       "9032   7e8350           0.5994   \n",
       "1985   8csucl           0.2023   \n",
       "6644   7t9xad           0.5994   \n",
       "821    8kyb97           0.8176   \n",
       "2692   81m85f          -0.5994   \n",
       "5328   80h2wi           0.1531   \n",
       "2774   8249ww           0.6369   \n",
       "10498  77zeou           0.2732   \n",
       "5717   7or77e           0.5267   \n",
       "7263   7ir9dt           0.2732   \n",
       "2377   8ewam6          -0.0258   \n",
       "6695   7tjw04           0.1779   \n",
       "8793   7cznbt           0.4019   \n",
       "6763   7tvgv7           0.4019   \n",
       "10592  78g36l          -0.6486   \n",
       "3951   87xud8           0.4215   \n",
       "6956   7h5jen          -0.5994   \n",
       "6414   7sb822           0.3400   \n",
       "8118   7a22pl          -0.5267   \n",
       "8401   7b71kb          -0.3182   \n",
       "1974   8cqyyi           0.7906   \n",
       "7700   7l3yza           0.7184   \n",
       "3597   867mzo           0.4588   \n",
       "6559   7sxofm          -0.2960   \n",
       "9480   73m3y5           0.4404   \n",
       "7784   7ljcov           0.8625   \n",
       "7509   7k37u2           0.3818   \n",
       "9889   75bmqx          -0.7351   \n",
       "...       ...              ...   \n",
       "2703   81r7ea          -0.8176   \n",
       "6208   7rb7nd          -0.7845   \n",
       "4986   7yz3yz          -0.4767   \n",
       "6373   7s5dya          -0.4767   \n",
       "9154   7euiq8          -0.6808   \n",
       "3486   85pyi6          -0.4019   \n",
       "2896   82rk00          -0.7003   \n",
       "1776   8bnb8j          -0.9217   \n",
       "1213   8n2dqr          -0.8225   \n",
       "6547   7swa3t          -0.8519   \n",
       "4306   7vkz7l          -0.6705   \n",
       "5283   809juf          -0.7964   \n",
       "4871   7ycg56          -0.2500   \n",
       "8039   7n02i9          -0.6808   \n",
       "3328   84uk2d          -0.4588   \n",
       "8814   7d4zpj          -0.8658   \n",
       "5684   7okjke          -0.6249   \n",
       "3877   87lvys          -0.9412   \n",
       "3947   87wwsb          -0.8316   \n",
       "3650   86h14f          -0.9287   \n",
       "8037   7myumi          -0.5423   \n",
       "5824   7pd2l2          -0.6249   \n",
       "10198  76kno5          -0.8957   \n",
       "5664   7og3jh          -0.8442   \n",
       "50     8gc5iq          -0.9260   \n",
       "10352  7799ir          -0.8860   \n",
       "6854   7ubcu5          -0.5859   \n",
       "5456   7nccsh          -0.6705   \n",
       "1630   8atz0n          -0.8658   \n",
       "3886   87nmyl          -0.9300   \n",
       "\n",
       "                                                                                                                                                                                                                                                                                          title  \\\n",
       "10759                                                                                                                                                                                                                              Jeff Bezos just passed Bill Gates for world's richest person   \n",
       "3208                                                                                                                                                                                                                                                 Scientist Stephen Hawking has died aged 76   \n",
       "9032                                                                                                                                                                                                                         FAA approves Flying Cow drones to restore Puerto Rico cell network   \n",
       "1985                                                                                                                                                                                                        As tornado sweeps through neighborhood, teen just keeps playing Fortnite video game   \n",
       "6644                                                                                                                                                                                                           It's a lunar trifecta. A rare 'super blue blood moon' will soon light up the sky   \n",
       "821                                                                                                                                                                                                        Golden Knights were 500-1 long shots to win Stanley Cup. Now they are four wins away   \n",
       "2692                                                                                                                                                                                                           McDonald's Is Dow Jones' Biggest Loser On 'Tough Start' For $1-$2-$3 Dollar Menu   \n",
       "5328                                                                                                                                                                                                                      Girl injured by emotional support dog while boarding Southwest flight   \n",
       "2774                                                                                                                                                                                                                                               Best Buy is shutting down 250 mobile outlets   \n",
       "10498  New research shows relationships that begin online are stronger than bonds made offline. Online dating increases interracial relationships, as dating sites and apps introduce people to a much more extensive and diverse set of networks beyond personal connections made in real life   \n",
       "5717                                                                                                                                                                                                                                 One winning Powerball ticket to claim $570 million jackpot   \n",
       "7263                                                                                                                                                                                                                     Newfoundland connects to North American energy grid for the first time   \n",
       "2377                                                                                                                                                                                                                                        Special Olympian disqualified for swimming too fast   \n",
       "6695                                                                                                                                                                                                                Roger Federer wins Australian Open and 20th major after beating Marin Cilic   \n",
       "8793                                                                                                                                                                                                         Australia says yes to same-sex marriage in historic postal survey | Australia news   \n",
       "6763                                                                                                                                                                                                                               The NSA has Literally Removed \"Honesty\" from Its Core Values   \n",
       "10592                                                                                                                                                                                                                     In the U.S. market for human bodies, anyone can sell the donated dead   \n",
       "3951                                                                                                                                                                                   Johan van Hulst, Dutch schoolteacher who saved hundreds of Jewish children during Holocaust, dies at 107   \n",
       "6956                                                                                 Medical Marijuana Patients In Texas Worry About Shortage Of Registered Doctors - According to the state, only seven of Texas’s estimated 400 neurologists have signed up as registered CBD oil prescribers   \n",
       "6414                                                                                                                                                                                                                              Neil Diamond Retires From Touring After Parkinson’s Diagnosis   \n",
       "8118                                                                                                                                                                                         Germany Forced To Pay Consumers To Use More Electricity Due to wind generation from stormy weekend   \n",
       "8401                                                                                                                                                                                                               A Houston furniture store owner lost $10 million on a World Series promotion   \n",
       "1974                                                                                                                                                                                                               Kendrick Lamar wins Pulitzer Prize for music for his acclaimed album 'Damn.'   \n",
       "7700                                                                                                                                                                                                                      AT&amp;T is giving $1,000 bonuses to 200,000 employees after tax bill   \n",
       "3597                                                                                                                                                                                       She's on life support. She's walking. No one at Children's Mercy Hospital in KC has done that before   \n",
       "6559                                                                                                                                                                                                           Report: Dalai Lama received $1M from Albany 'sex cult' accused of branding women   \n",
       "9480                                                                                                                                                                                              Man asked friends to help him move but police say they unknowingly helped him burglarize home   \n",
       "7784                                                                                                                                                                                                          Billionaire Bob Parsons praises tax bill and promises staff $1,000-$2,000 bonuses   \n",
       "7509                                                                                                                                                                                                                      N.Y. Fed raises U.S. fourth-quarter GDP growth view to near 4 percent   \n",
       "9889                                                                                                                                                                                                                               Facebook Quietly Enters StarCraft War for AI Bots, and Loses   \n",
       "...                                                                                                                                                                                                                                                                                         ...   \n",
       "2703                                                                                                                                                                                                          Suspect in Central Michigan shooting death used gun registered to dad, police say   \n",
       "6208                                                                                                                                                                                                                  Teen shot dead by cop in Ohio courthouse during fight with family members   \n",
       "4986                                                                                                                                                                                                         SUV passenger shot at by NSA police says wrong turn led to top-secret installation   \n",
       "6373                                                                                                                                                                                                                                The Latest: Syrian activists: Gas attack in Damascus suburb   \n",
       "9154                                                                                                                                                                                                                                 Pastor forgot where he put his gun, realizes it was stolen   \n",
       "3486                                                                                                                                                                                                     Mistrial Declared Again in Oft-Deported Immigrant's DUI Hit-and-Run that Injured Child   \n",
       "2896                                                                                                                                                                                                                                                     Several injured in Vienna knife attack   \n",
       "1776                                                                                                                                                                                                                    Man Accused of Raping Michigan Teenager Is Now Charged With Killing Her   \n",
       "1213                                                                                                                                                                                                                One-year old reportedly abducted from mom found dead in Chesterfield County   \n",
       "6547                                                                                                                                                                                                          Mystery Surrounds Michigan Mom And Son Found Dead In Home With No Trace Of Trauma   \n",
       "4306                                                                                                                                                                                                                        1 deputy killed after responding to motor vehicle theft in Colorado   \n",
       "5283                                                                                                                                                                                                                    'I said stop': Ottawa woman accuses Hedley singer Jacob Hoggard of rape   \n",
       "4871                                                                                                                                                                                                                               Israel slams Polish PM for WWII 'Jewish perpetrators' remark   \n",
       "8039                                                                                                                                                                                                                              Recy Taylor, Alabama woman raped by six white men, dies at 97   \n",
       "3328                                                                                                                                                                                                                                   Britain First leader Paul Golding attacked at HMP Elmley   \n",
       "8814                                                                                                                                                                                                                            Woman who made false rape complaint receives suspended sentence   \n",
       "5684                                                                                                                                                                                                                   Palestinians attack car of Greek Patriarch in protest against land deals   \n",
       "3877                                                                                                          An 85-year-old woman who as a child narrowly escaped France’s most notorious wartime roundup of Jews has been murdered in Paris, and the authorities are calling it a hate crime.   \n",
       "3947                                                                                                                                                                                             UK resident abducted, raped and burned alive by convicted killers out on bail, United Kingdom.   \n",
       "3650                                                                                                                                                                                                              Travis Air Force Base Gate Crash Investigated As Terror Attack; Driver Killed   \n",
       "8037                                                                                                                                                                                                                                        Germany: Afghan teen in custody over fatal stabbing   \n",
       "5824                                                                                                                                                                                                                         Police guard \"White Racism\" class at Florida Gulf Coast University   \n",
       "10198                                                                                                                                                                                     Police drop investigation as story of racist death threats against Calgary trustee candidate unravels   \n",
       "5664                                                                                                                                                                                                                                HIV-positive school aide pleads guilty to sex abuse charges   \n",
       "50                                                                                                                                                                                                                   Texas Jury Gave a Man No Prison Time Because 'Gay Panic' Drove Him to Kill   \n",
       "10352                                                                                                                                                                                                    Sevier County deputy suffered panic attack while armed, couple charged with causing it   \n",
       "6854                                                                                                                                                                                                                     Stanford drops plans for plaque at site of Brock Turner sexual assault   \n",
       "5456                                                                                                                                                                                                               Wichita man killed by police after a Prank call leaving two children behind.   \n",
       "1630                                                                                                                                                                                                     Cop killed a teen. But the boy’s friend — not the officer — was found guilty of murder   \n",
       "3886                                                                                                                                                                Illegal immigrant that murdered two California cops, as well as shot another cop and a civilian, receives the Death Penalty   \n",
       "\n",
       "       comment_sentiment  \n",
       "10759           0.552870  \n",
       "3208            0.515800  \n",
       "9032            0.495141  \n",
       "1985            0.493200  \n",
       "6644            0.473320  \n",
       "821             0.462810  \n",
       "2692            0.459981  \n",
       "5328            0.459333  \n",
       "2774            0.450825  \n",
       "10498           0.445155  \n",
       "5717            0.436379  \n",
       "7263            0.433868  \n",
       "2377            0.424110  \n",
       "6695            0.422929  \n",
       "8793            0.422097  \n",
       "6763            0.417494  \n",
       "10592           0.415481  \n",
       "3951            0.407075  \n",
       "6956            0.405263  \n",
       "6414            0.400726  \n",
       "8118            0.400716  \n",
       "8401            0.400208  \n",
       "1974            0.399114  \n",
       "7700            0.398514  \n",
       "3597            0.396705  \n",
       "6559            0.381195  \n",
       "9480            0.375533  \n",
       "7784            0.375010  \n",
       "7509            0.374347  \n",
       "9889            0.364853  \n",
       "...                  ...  \n",
       "2703           -0.553870  \n",
       "6208           -0.554520  \n",
       "4986           -0.554983  \n",
       "6373           -0.557119  \n",
       "9154           -0.560763  \n",
       "3486           -0.561025  \n",
       "2896           -0.567465  \n",
       "1776           -0.568922  \n",
       "1213           -0.569582  \n",
       "6547           -0.571159  \n",
       "4306           -0.571529  \n",
       "5283           -0.571911  \n",
       "4871           -0.574132  \n",
       "8039           -0.574512  \n",
       "3328           -0.578752  \n",
       "8814           -0.582045  \n",
       "5684           -0.582294  \n",
       "3877           -0.588225  \n",
       "3947           -0.588647  \n",
       "3650           -0.594505  \n",
       "8037           -0.595386  \n",
       "5824           -0.606558  \n",
       "10198          -0.610069  \n",
       "5664           -0.621735  \n",
       "50             -0.622150  \n",
       "10352          -0.631571  \n",
       "6854           -0.632611  \n",
       "5456           -0.636729  \n",
       "1630           -0.646498  \n",
       "3886           -0.663906  \n",
       "\n",
       "[10981 rows x 4 columns]"
      ]
     },
     "execution_count": 147,
     "metadata": {},
     "output_type": "execute_result"
    }
   ],
   "source": [
    "merged.sort_values('comment_sentiment',ascending=False)"
   ]
  },
  {
   "cell_type": "code",
   "execution_count": 148,
   "metadata": {},
   "outputs": [
    {
     "data": {
      "image/png": "[encoded data removed]",
      "text/plain": [
       "<Figure size 432x288 with 1 Axes>"
      ]
     },
     "metadata": {},
     "output_type": "display_data"
    }
   ],
   "source": [
    "merged['comment_sentiment'].hist(bins=100);\n",
    "plt.xlabel('avg sentiment of article');\n",
    "plt.ylabel('count');\n",
    "plt.title(\"Sentiment of Articles\");\n",
    "plt.savefig(\"sentiment_histogram\")"
   ]
  },
  {
   "cell_type": "code",
   "execution_count": null,
   "metadata": {},
   "outputs": [],
   "source": [
    "merged['comment_sentiment'].hist(bins=100);\n",
    "plt.xlabel('avg sentiment of article');\n",
    "plt.ylabel('count');\n",
    "plt.title(\"Sentiment of Articles\");\n",
    "plt.savefig(\"sentiment_histogram\")"
   ]
  },
  {
   "cell_type": "code",
   "execution_count": 149,
   "metadata": {},
   "outputs": [],
   "source": [
    "from scipy.stats.stats import pearsonr"
   ]
  },
  {
   "cell_type": "code",
   "execution_count": 150,
   "metadata": {},
   "outputs": [
    {
     "data": {
      "text/plain": [
       "0.386279633756404"
      ]
     },
     "execution_count": 150,
     "metadata": {},
     "output_type": "execute_result"
    }
   ],
   "source": [
    "pearsonr(merged.title_sentiment, merged.comment_sentiment)[0]"
   ]
  },
  {
   "cell_type": "code",
   "execution_count": 151,
   "metadata": {},
   "outputs": [],
   "source": [
    "merged.to_csv(\"title_with_comment_sentiment.csv\")"
   ]
  },
  {
   "cell_type": "code",
   "execution_count": 3,
   "metadata": {},
   "outputs": [],
   "source": [
    "merged = pd.read_csv(\"title_with_comment_sentiment.csv\")"
   ]
  },
  {
   "cell_type": "code",
   "execution_count": 80,
   "metadata": {},
   "outputs": [],
   "source": [
    "from sklearn.decomposition import NMF, PCA, TruncatedSVD\n",
    "\n",
    "from sklearn.model_selection import KFold\n",
    "\n",
    "from  sklearn.ensemble import RandomForestRegressor\n",
    "from sklearn.linear_model import LinearRegression\n",
    "from sklearn.ensemble import GradientBoostingRegressor"
   ]
  },
  {
   "cell_type": "code",
   "execution_count": 84,
   "metadata": {},
   "outputs": [],
   "source": [
    "tfidf_model = TfidfVectorizer(stop_words='english')\n",
    "kf = KFold(n_splits=10)\n",
    "nmf = NMF(verbose=0, max_iter=200,n_components=100,tol=0.00000000000000001)\n",
    "diffs = []\n",
    "rsq = []\n",
    "model = RandomForestRegressor(n_estimators=500)\n",
    "#model = GradientBoostingRegressor(n_estimators=1000, learning_rate=1.0)\n",
    "#model = LinearRegression()"
   ]
  },
  {
   "cell_type": "code",
   "execution_count": null,
   "metadata": {},
   "outputs": [
    {
     "name": "stdout",
     "output_type": "stream",
     "text": [
      "beginning\n",
      "Reconstruction_err  92.64461892427475\n",
      "post transform\n",
      "RR  0.25788291073772496\n",
      "beginning\n",
      "Reconstruction_err  92.61728352253745\n"
     ]
    }
   ],
   "source": [
    "for train_index, test_index in kf.split(merged):\n",
    "    print(\"beginning\")\n",
    "    train_X, train_y = merged.iloc[train_index]['title'].values, merged.iloc[train_index]['comment_sentiment'].values\n",
    "    test_X, test_y = merged.iloc[test_index]['title'].values, merged.iloc[test_index]['comment_sentiment'].values\n",
    "    \n",
    "    tfidf_model = tfidf_model.fit(train_X)\n",
    "    train_X = tfidf_model.transform(train_X)\n",
    "    test_X = tfidf_model.transform(test_X)\n",
    "    \n",
    "    nmf_model = nmf.fit(train_X)\n",
    "    print(\"Reconstruction_err \", nmf_model.reconstruction_err_)\n",
    "    train_X = nmf_model.transform(train_X)\n",
    "    test_X = nmf_model.transform(test_X)\n",
    "    \n",
    "    train_X = np.append(train_X, merged.iloc[train_index]['title_sentiment'].values.reshape(train_X.shape[0], 1), 1)\n",
    "    test_X = np.append(test_X, merged.iloc[test_index]['title_sentiment'].values.reshape(test_X.shape[0], 1), 1)\n",
    "    \n",
    "    model = model.fit(train_X, train_y)\n",
    "    yhat = model.predict(test_X)\n",
    "    print(\"post transform\")\n",
    "    diffs.extend((yhat - test_y))\n",
    "    rscore = model.score(test_X, test_y)\n",
    "    print('RR ', rscore)\n",
    "    rsq.append(rscore)"
   ]
  },
  {
   "cell_type": "code",
   "execution_count": 77,
   "metadata": {},
   "outputs": [
    {
     "data": {
      "text/plain": [
       "0.2650650865238977"
      ]
     },
     "execution_count": 77,
     "metadata": {},
     "output_type": "execute_result"
    }
   ],
   "source": [
    "sum(rsq)/len(rsq)"
   ]
  },
  {
   "cell_type": "code",
   "execution_count": 78,
   "metadata": {},
   "outputs": [
    {
     "data": {
      "image/png": "[encoded data removed]",
      "text/plain": [
       "<Figure size 432x288 with 1 Axes>"
      ]
     },
     "metadata": {},
     "output_type": "display_data"
    }
   ],
   "source": [
    "plt.hist(diffs, bins=100);\n",
    "plt.xlabel(\"Residuals in Sentiment prediction\");\n",
    "plt.ylabel(\"Count\");\n",
    "plt.title(\"Sentiment residuals\");\n",
    "plt.savefig(\"sentiment_residuals\")"
   ]
  },
  {
   "cell_type": "code",
   "execution_count": 60,
   "metadata": {},
   "outputs": [
    {
     "data": {
      "text/plain": [
       "-0.029411764705882693"
      ]
     },
     "execution_count": 60,
     "metadata": {},
     "output_type": "execute_result"
    }
   ],
   "source": [
    "rfr.score([[1],[2],[3],[4],[5]], [5,5,5,8,6])"
   ]
  },
  {
   "cell_type": "code",
   "execution_count": null,
   "metadata": {
    "scrolled": false
   },
   "outputs": [],
   "source": [
    "for comp in nmf_model.components_:\n",
    "    words_freq = list(zip(tfidf_model.get_feature_names(), comp))\n",
    "    sorted_words_freq = sorted(words_freq, key = lambda x: x[1], reverse=True)\n",
    "    pprint.pprint(sorted_words_freq[:40])\n",
    "    print()\n",
    "\n"
   ]
  }
 ],
 "metadata": {
  "kernelspec": {
   "display_name": "Python 3",
   "language": "python",
   "name": "python3"
  },
  "language_info": {
   "codemirror_mode": {
    "name": "ipython",
    "version": 3
   },
   "file_extension": ".py",
   "mimetype": "text/x-python",
   "name": "python",
   "nbconvert_exporter": "python",
   "pygments_lexer": "ipython3",
   "version": "3.6.5"
  }
 },
 "nbformat": 4,
 "nbformat_minor": 2
}
